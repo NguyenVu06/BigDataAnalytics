{
  "nbformat": 4,
  "nbformat_minor": 0,
  "metadata": {
    "kernelspec": {
      "display_name": "Python 3",
      "language": "python",
      "name": "python3"
    },
    "language_info": {
      "codemirror_mode": {
        "name": "ipython",
        "version": 3
      },
      "file_extension": ".py",
      "mimetype": "text/x-python",
      "name": "python",
      "nbconvert_exporter": "python",
      "pygments_lexer": "ipython3",
      "version": "3.7.6"
    },
    "colab": {
      "name": "Assignment1.ipynb",
      "provenance": [],
      "collapsed_sections": [],
      "include_colab_link": true
    }
  },
  "cells": [
    {
      "cell_type": "markdown",
      "metadata": {
        "id": "view-in-github",
        "colab_type": "text"
      },
      "source": [
        "<a href=\"https://colab.research.google.com/github/NguyenVu06/BigDataAnalytics/blob/master/Assignment1.ipynb\" target=\"_parent\"><img src=\"https://colab.research.google.com/assets/colab-badge.svg\" alt=\"Open In Colab\"/></a>"
      ]
    },
    {
      "cell_type": "markdown",
      "metadata": {
        "id": "dq0LqCJMfYe8",
        "colab_type": "text"
      },
      "source": [
        "# Assignment 1 Workbook\n",
        "   "
      ]
    },
    {
      "cell_type": "markdown",
      "metadata": {
        "id": "TVcqbt4DfYe_",
        "colab_type": "text"
      },
      "source": [
        "Load data from the cloud"
      ]
    },
    {
      "cell_type": "code",
      "metadata": {
        "id": "LmxLySb20jtX",
        "colab_type": "code",
        "colab": {}
      },
      "source": [
        "!apt-get install openjdk-8-jdk-headless -qq > /dev/null\n",
        "!wget -q http://mirror.cc.columbia.edu/pub/software/apache/spark/spark-3.0.0-preview2/spark-3.0.0-preview2-bin-hadoop2.7.tgz\n",
        "!tar xf spark-3.0.0-preview2-bin-hadoop2.7.tgz\n",
        "!pip install -q findspark\n",
        "!rm -rf spark-3.0.0-preview2-bin-hadoop2.7.tgz"
      ],
      "execution_count": null,
      "outputs": []
    },
    {
      "cell_type": "code",
      "metadata": {
        "id": "Nor9olN20p0M",
        "colab_type": "code",
        "colab": {}
      },
      "source": [
        "import os\n",
        "os.environ[\"JAVA_HOME\"] = \"/usr/lib/jvm/java-8-openjdk-amd64\"\n",
        "os.environ[\"SPARK_HOME\"] = \"/content/spark-3.0.0-preview2-bin-hadoop2.7\"\n",
        "\n",
        "import findspark\n",
        "findspark.init(\"spark-3.0.0-preview2-bin-hadoop2.7\")# SPARK_HOME\n",
        "\n",
        "from pyspark.sql import SparkSession\n",
        "from pyspark import SparkContext\n",
        "\n",
        "spark = SparkSession.builder.master(\"local[*]\").getOrCreate()\n",
        "sc = SparkContext.getOrCreate()"
      ],
      "execution_count": null,
      "outputs": []
    },
    {
      "cell_type": "code",
      "metadata": {
        "id": "SY060QsjT8Wr",
        "colab_type": "code",
        "colab": {
          "base_uri": "https://localhost:8080/",
          "height": 126
        },
        "outputId": "8adf8cfa-86f5-484f-dffb-866f80d4b456"
      },
      "source": [
        "ls -lah"
      ],
      "execution_count": null,
      "outputs": [
        {
          "output_type": "stream",
          "text": [
            "total 20K\n",
            "drwxr-xr-x  1 root      root 4.0K Jul 14 13:52 \u001b[0m\u001b[01;34m.\u001b[0m/\n",
            "drwxr-xr-x  1 root      root 4.0K Jul 14 13:46 \u001b[01;34m..\u001b[0m/\n",
            "drwxr-xr-x  1 root      root 4.0K Jul 10 16:29 \u001b[01;34m.config\u001b[0m/\n",
            "drwxr-xr-x  1 root      root 4.0K Jul 10 16:29 \u001b[01;34msample_data\u001b[0m/\n",
            "drwxr-xr-x 13 110302528 1000 4.0K Dec 17  2019 \u001b[01;34mspark-3.0.0-preview2-bin-hadoop2.7\u001b[0m/\n"
          ],
          "name": "stdout"
        }
      ]
    },
    {
      "cell_type": "code",
      "metadata": {
        "id": "OYvYeA5RUImn",
        "colab_type": "code",
        "colab": {
          "base_uri": "https://localhost:8080/",
          "height": 126
        },
        "outputId": "b0c0fb6c-8f27-4e49-a4af-9a5ac93b1df9"
      },
      "source": [
        "!ls -la"
      ],
      "execution_count": null,
      "outputs": [
        {
          "output_type": "stream",
          "text": [
            "total 20\n",
            "drwxr-xr-x  1 root      root 4096 Jul 14 13:52 .\n",
            "drwxr-xr-x  1 root      root 4096 Jul 14 13:46 ..\n",
            "drwxr-xr-x  1 root      root 4096 Jul 10 16:29 .config\n",
            "drwxr-xr-x  1 root      root 4096 Jul 10 16:29 sample_data\n",
            "drwxr-xr-x 13 110302528 1000 4096 Dec 17  2019 spark-3.0.0-preview2-bin-hadoop2.7\n"
          ],
          "name": "stdout"
        }
      ]
    },
    {
      "cell_type": "code",
      "metadata": {
        "id": "Ik5qs0pnKC60",
        "colab_type": "code",
        "colab": {
          "base_uri": "https://localhost:8080/",
          "height": 218
        },
        "outputId": "e158f2cb-85e2-47d5-b411-1243a0949223"
      },
      "source": [
        "!wget https://s3.amazonaws.com/metcs777/taxi-data-sorted-small.csv.bz2"
      ],
      "execution_count": null,
      "outputs": [
        {
          "output_type": "stream",
          "text": [
            "--2020-07-14 13:52:27--  https://s3.amazonaws.com/metcs777/taxi-data-sorted-small.csv.bz2\n",
            "Resolving s3.amazonaws.com (s3.amazonaws.com)... 52.216.32.35\n",
            "Connecting to s3.amazonaws.com (s3.amazonaws.com)|52.216.32.35|:443... connected.\n",
            "HTTP request sent, awaiting response... 200 OK\n",
            "Length: 97938609 (93M) [application/x-bzip2]\n",
            "Saving to: ‘taxi-data-sorted-small.csv.bz2’\n",
            "\n",
            "taxi-data-sorted-sm 100%[===================>]  93.40M  76.2MB/s    in 1.2s    \n",
            "\n",
            "2020-07-14 13:52:28 (76.2 MB/s) - ‘taxi-data-sorted-small.csv.bz2’ saved [97938609/97938609]\n",
            "\n"
          ],
          "name": "stdout"
        }
      ]
    },
    {
      "cell_type": "code",
      "metadata": {
        "id": "acu6srVpfYfH",
        "colab_type": "code",
        "colab": {
          "base_uri": "https://localhost:8080/",
          "height": 35
        },
        "outputId": "5045fa7b-0c97-41b9-9ed8-d617e63004a1"
      },
      "source": [
        "#check if spark are running\n",
        "\n",
        "print(sc.version)\n"
      ],
      "execution_count": null,
      "outputs": [
        {
          "output_type": "stream",
          "text": [
            "3.0.0-preview2\n"
          ],
          "name": "stdout"
        }
      ]
    },
    {
      "cell_type": "code",
      "metadata": {
        "id": "gT2D6DuJfYfM",
        "colab_type": "code",
        "colab": {}
      },
      "source": [
        "lines = sc.textFile(\"./taxi-data-sorted-small.csv.bz2\")\n",
        "\n",
        "taxilines = lines.map(lambda line: line.split(\",\"))"
      ],
      "execution_count": null,
      "outputs": []
    },
    {
      "cell_type": "code",
      "metadata": {
        "id": "w56VdzMEfYfQ",
        "colab_type": "code",
        "colab": {
          "base_uri": "https://localhost:8080/",
          "height": 55
        },
        "outputId": "6acadbf3-d78c-4fc5-d6c8-1447edc3f525"
      },
      "source": [
        "#print first row of the data to make sure it is read in correctly\n",
        "print(taxilines.take(2))"
      ],
      "execution_count": null,
      "outputs": [
        {
          "output_type": "stream",
          "text": [
            "[['07290D3599E7A0D62097A346EFCC1FB5', 'E7750A37CAB07D0DFF0AF7E3573AC141', '2013-01-01 00:00:00', '2013-01-01 00:02:00', '120', '0.44', '-73.956528', '40.716976', '-73.962440', '40.715008', 'CSH', '3.50', '0.50', '0.50', '0.00', '0.00', '4.50'], ['22D70BF00EEB0ADC83BA8177BB861991', '3FF2709163DE7036FCAA4E5A3324E4BF', '2013-01-01 00:02:00', '2013-01-01 00:02:00', '0', '0.00', '0.000000', '0.000000', '0.000000', '0.000000', 'CSH', '27.00', '0.00', '0.50', '0.00', '0.00', '27.50']]\n"
          ],
          "name": "stdout"
        }
      ]
    },
    {
      "cell_type": "markdown",
      "metadata": {
        "id": "oWUNSZLQfYfW",
        "colab_type": "text"
      },
      "source": [
        "Use pycode from assignment 1 document to clean up the data loaded"
      ]
    },
    {
      "cell_type": "code",
      "metadata": {
        "id": "56bFmBB0fYfX",
        "colab_type": "code",
        "colab": {}
      },
      "source": [
        "#clean up \n",
        "#handling wrong data lines\n",
        "def isfloat(val):\n",
        "    try: \n",
        "        float(val)\n",
        "        return True\n",
        "    except:\n",
        "        return False\n",
        "    \n",
        "#use isFloat to remove lines if they dont have 16 values and a float value !=0 for col 6 and col 12\n",
        "def correctRows(p):\n",
        "    if(len(p)==17):\n",
        "        if(isfloat(p[5]) and isfloat(p[11])):\n",
        "            if(float(p[5])!=0 and float(p[11])!=0):\n",
        "                return p\n",
        "            \n",
        "#go thru each element per row and keep only the correctRows\n",
        "cleanTaxiDT = taxilines.filter(correctRows)"
      ],
      "execution_count": null,
      "outputs": []
    },
    {
      "cell_type": "code",
      "metadata": {
        "id": "5HWy93XDfYfa",
        "colab_type": "code",
        "colab": {
          "base_uri": "https://localhost:8080/",
          "height": 35
        },
        "outputId": "f8991bf1-19bd-405c-c5cc-6480cd7b8b25"
      },
      "source": [
        "print(cleanTaxiDT.count())"
      ],
      "execution_count": null,
      "outputs": [
        {
          "output_type": "stream",
          "text": [
            "1990270\n"
          ],
          "name": "stdout"
        }
      ]
    },
    {
      "cell_type": "markdown",
      "metadata": {
        "id": "ao7ZkqSTfYfi",
        "colab_type": "text"
      },
      "source": [
        "### Part1: Top-10 Active Taxis\n",
        "Many different taxis have had multiple drivers. Write and execute a Spark Python program that computes\n",
        "the top ten taxis that have had the largest number of drivers. Your output should be a set of (medallion,\n",
        "number of drivers) pairs\n"
      ]
    },
    {
      "cell_type": "code",
      "metadata": {
        "id": "AvBUCe_ufYfj",
        "colab_type": "code",
        "colab": {}
      },
      "source": [
        "#set up each row with an 1 index\n",
        "rdd_1 = cleanTaxiDT.map(lambda x: ((x[0], x[1]), 1))"
      ],
      "execution_count": null,
      "outputs": []
    },
    {
      "cell_type": "code",
      "metadata": {
        "id": "wDyrz-5ffYfm",
        "colab_type": "code",
        "colab": {
          "base_uri": "https://localhost:8080/",
          "height": 35
        },
        "outputId": "12b191f3-5283-43c5-ab1e-13890ba3cf9b"
      },
      "source": [
        "rdd_1.first()"
      ],
      "execution_count": null,
      "outputs": [
        {
          "output_type": "execute_result",
          "data": {
            "text/plain": [
              "(('07290D3599E7A0D62097A346EFCC1FB5', 'E7750A37CAB07D0DFF0AF7E3573AC141'), 1)"
            ]
          },
          "metadata": {
            "tags": []
          },
          "execution_count": 14
        }
      ]
    },
    {
      "cell_type": "code",
      "metadata": {
        "id": "EVq_pvVlfYfp",
        "colab_type": "code",
        "colab": {}
      },
      "source": [
        "#reduce, aggrgate by the combination of taxi and taxi drivers into a list\n",
        "rdd_1_reduce = rdd_1.reduceByKey(lambda x, y: x+y)\n"
      ],
      "execution_count": null,
      "outputs": []
    },
    {
      "cell_type": "code",
      "metadata": {
        "id": "vYRaU5MrfYft",
        "colab_type": "code",
        "colab": {}
      },
      "source": [
        "# reduce in RDD to count taxi and most frequently used taxi\n",
        "by_medalionRDD2 = rdd_1_reduce.map(lambda x: (x[0][0],1)).reduceByKey(lambda x, y: x+y)"
      ],
      "execution_count": null,
      "outputs": []
    },
    {
      "cell_type": "code",
      "metadata": {
        "id": "RZjVMIVTfYfv",
        "colab_type": "code",
        "colab": {
          "base_uri": "https://localhost:8080/",
          "height": 200
        },
        "outputId": "49c2a9ca-1045-4b6f-8ab9-dd22fb4425c2"
      },
      "source": [
        "#return the top 10 most used taxi by the count\n",
        "by_medalionRDD2.top(10, lambda x: x[1])"
      ],
      "execution_count": null,
      "outputs": [
        {
          "output_type": "execute_result",
          "data": {
            "text/plain": [
              "[('65EFB7D02BAD12D5DE757CB5D350944E', 20),\n",
              " ('3C08296D0EB7ABE24FB7328DE9B62813', 20),\n",
              " ('7DEB25123AE57111F912C0EBF92F1F63', 19),\n",
              " ('3B6AE3CF05F34ADC91DC68D20F2EB913', 19),\n",
              " ('F36564AB9C6EA3B6373EB0E1680A447A', 19),\n",
              " ('55D311AD2752BC278BEF7386B25B28A9', 19),\n",
              " ('CD7B02776E69483397952DC5E1F44DFE', 19),\n",
              " ('F2A08960199BCDB7EE19411A8E7A4C5D', 18),\n",
              " ('799153A138F4E8334A1A95AE25040B83', 18),\n",
              " ('9FB7A7C1D7B960D8B17829145C6A1CF2', 18)]"
            ]
          },
          "metadata": {
            "tags": []
          },
          "execution_count": 17
        }
      ]
    },
    {
      "cell_type": "markdown",
      "metadata": {
        "id": "e5_i58u3fYf4",
        "colab_type": "text"
      },
      "source": [
        "### Part2: Top-10 Best Drivers\n",
        "We would like to figure out who the top 10 best drivers are in terms of their average earned money per minute spent carrying a customer. The total amount field is the total money earned on a trip. In the end, we\n",
        "are interested in computing a set of (driver, money per minute) pairs"
      ]
    },
    {
      "cell_type": "markdown",
      "metadata": {
        "id": "F8eA3mOHCF0O",
        "colab_type": "text"
      },
      "source": [
        "Create a second clean RDD to remove any rows that contain no value for the minute column and save to cleanTaxiDT2"
      ]
    },
    {
      "cell_type": "code",
      "metadata": {
        "id": "-_ZHanAFojAq",
        "colab_type": "code",
        "colab": {}
      },
      "source": [
        "def correctRows2(p):\n",
        "  if(float(p[4]) !=0):\n",
        "    return p\n",
        "cleanTaxiDT2 = cleanTaxiDT.filter(correctRows2)"
      ],
      "execution_count": null,
      "outputs": []
    },
    {
      "cell_type": "code",
      "metadata": {
        "id": "xiTxqgSQBmDd",
        "colab_type": "code",
        "colab": {
          "base_uri": "https://localhost:8080/",
          "height": 34
        },
        "outputId": "b7df486c-00e3-48c9-8e28-daea82190eee"
      },
      "source": [
        "# check to see if the cleaned up data contail any zero value for column 5\n",
        "cleanTaxiDT2.filter(lambda x: float(x[4])==0 ).count()"
      ],
      "execution_count": null,
      "outputs": [
        {
          "output_type": "execute_result",
          "data": {
            "text/plain": [
              "0"
            ]
          },
          "metadata": {
            "tags": []
          },
          "execution_count": 27
        }
      ]
    },
    {
      "cell_type": "code",
      "metadata": {
        "id": "pcDeqY6zfYf5",
        "colab_type": "code",
        "colab": {}
      },
      "source": [
        "#get a driver rdd and map a function to get the money per minute value\n",
        "by_drvr = cleanTaxiDT2.map(lambda x: (x[1], (float(x[11])/(float(x[4])/60), 1.0)))\n",
        "#aggregate by key=driverID and tke an average using the aggregate byByKey\n",
        "aggfun = lambda x, y: (x[0]+y[0], x[1]+y[1])\n",
        "rateRDD = by_drvr.aggregateByKey((0.0,0.0), aggfun, aggfun)\n",
        "\n",
        "avg_rateRDD = rateRDD.map(lambda x: (x[0], x[1][0]/x[1][1]))\n"
      ],
      "execution_count": null,
      "outputs": []
    },
    {
      "cell_type": "code",
      "metadata": {
        "id": "QRNuqmzwfYgD",
        "colab_type": "code",
        "colab": {
          "base_uri": "https://localhost:8080/",
          "height": 185
        },
        "outputId": "a44dfd49-598b-4d83-d600-eb748f45d843"
      },
      "source": [
        "# Get top 10 drivers\n",
        "avg_rateRDD.top(10, lambda x: x[1])\n"
      ],
      "execution_count": null,
      "outputs": [
        {
          "output_type": "execute_result",
          "data": {
            "text/plain": [
              "[('30B2ACBAF002305533FF0D31D34A7C06', 624.0),\n",
              " ('4C3B2A31227663A59E1AA7B45157160D', 520.0),\n",
              " ('08026D69508127F4DE855678ABCE7E0A', 300.0),\n",
              " ('6E1D7195E38AA7A36B375C1C60AD8632', 240.0),\n",
              " ('975D5E840C0F5D9611A71E9A811D11F7', 171.81818181818184),\n",
              " ('E8E22AC46DF6AC99C28C6860779A648C', 150.0),\n",
              " ('F981706EDD5F7B2BC29A5C9F2D2017C0', 120.4015616285555),\n",
              " ('17F72121B9F612D81AC4556CC18D5514', 107.14285714285714),\n",
              " ('619BF4020E6542AA0E28FBC7081271F1', 105.88235294117648),\n",
              " ('CD9D0B4429613F1B62D1D4FBB72ACF2B', 82.75862068965517)]"
            ]
          },
          "metadata": {
            "tags": []
          },
          "execution_count": 41
        }
      ]
    },
    {
      "cell_type": "markdown",
      "metadata": {
        "id": "tZ6isU0PJN6L",
        "colab_type": "text"
      },
      "source": [
        "### Part3: Best Day to Work\n",
        "We would like to know which hour of the day is the best time for drivers that has the highest profit per miles. Consider the surcharge amount in dollar for each taxi ride (without tip amount) and the distance in miles, and sum up the rides for each hour of the day (24 hours) – consider the pickup time for your calculation. The profit ratio is the ration surcharge in dollar divided by the travel distance in miles for each specific time\n",
        "of the day. \n",
        "\n",
        "Profit Ratio = (Surcharge Amount in US Dollar) / (Travel Distance in miles)\n",
        "We are interested to know the time of the day that has the highest profit ratio."
      ]
    },
    {
      "cell_type": "code",
      "metadata": {
        "id": "yW0RJ81ZfYgV",
        "colab_type": "code",
        "colab": {}
      },
      "source": [
        "#col index: surcharge=12, Distance=5, pickup datetime=2\n",
        "\n",
        "# get the day out of the datetime column\n",
        "from datetime import datetime"
      ],
      "execution_count": null,
      "outputs": []
    },
    {
      "cell_type": "code",
      "metadata": {
        "id": "S_8J-7X5N_DB",
        "colab_type": "code",
        "colab": {
          "base_uri": "https://localhost:8080/",
          "height": 34
        },
        "outputId": "ba668eda-7aad-48a3-ba94-88890bdeec36"
      },
      "source": [
        "\n",
        "# create a method to extract date\n",
        "def getDate(x):\n",
        "  dtObj = datetime.strptime(x, '%Y-%m-%d %H:%M:%S')\n",
        "  return dtObj.date()\n",
        "\n",
        "# parse datetime column (Example: 2013-01-01 00:00:00) and test getDate method\n",
        "x_str = \"2013-01-01 00:00:00\"\n",
        "print(getDate(x_str))"
      ],
      "execution_count": null,
      "outputs": [
        {
          "output_type": "stream",
          "text": [
            "2013-01-01\n"
          ],
          "name": "stdout"
        }
      ]
    },
    {
      "cell_type": "code",
      "metadata": {
        "id": "rdadRG-KORSd",
        "colab_type": "code",
        "colab": {}
      },
      "source": [
        ""
      ],
      "execution_count": null,
      "outputs": []
    }
  ]
}