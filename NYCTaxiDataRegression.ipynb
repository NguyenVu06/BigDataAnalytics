{
  "nbformat": 4,
  "nbformat_minor": 0,
  "metadata": {
    "kernelspec": {
      "display_name": "Python 3",
      "language": "python",
      "name": "python3"
    },
    "language_info": {
      "codemirror_mode": {
        "name": "ipython",
        "version": 3
      },
      "file_extension": ".py",
      "mimetype": "text/x-python",
      "name": "python",
      "nbconvert_exporter": "python",
      "pygments_lexer": "ipython3",
      "version": "3.7.6"
    },
    "colab": {
      "name": "NYCTaxiDataRegression.ipynb",
      "provenance": [],
      "collapsed_sections": [
        "ao7ZkqSTfYfi"
      ],
      "include_colab_link": true
    }
  },
  "cells": [
    {
      "cell_type": "markdown",
      "metadata": {
        "id": "view-in-github",
        "colab_type": "text"
      },
      "source": [
        "<a href=\"https://colab.research.google.com/github/NguyenVu06/BigDataAnalytics/blob/master/NYCTaxiDataRegression.ipynb\" target=\"_parent\"><img src=\"https://colab.research.google.com/assets/colab-badge.svg\" alt=\"Open In Colab\"/></a>"
      ]
    },
    {
      "cell_type": "markdown",
      "metadata": {
        "id": "TVcqbt4DfYe_"
      },
      "source": [
        "Load data from the cloud"
      ]
    },
    {
      "cell_type": "code",
      "metadata": {
        "id": "LmxLySb20jtX",
        "colab": {
          "base_uri": "https://localhost:8080/",
          "height": 51
        },
        "outputId": "4f0957d7-6dba-49fa-e2dd-6847b60ae76a"
      },
      "source": [
        "!apt-get install openjdk-8-jdk-headless -qq > /dev/null\n",
        "!wget -q http://mirror.cc.columbia.edu/pub/software/apache/spark/spark-3.0.0-preview2/spark-3.0.0-preview2-bin-hadoop2.7.tgz\n",
        "!tar xf spark-3.0.0-preview2-bin-hadoop2.7.tgz\n",
        "!pip install -q findspark\n",
        "!rm -rf spark-3.0.0-preview2-bin-hadoop2.7.tgz"
      ],
      "execution_count": null,
      "outputs": [
        {
          "output_type": "stream",
          "text": [
            "tar: spark-3.0.0-preview2-bin-hadoop2.7.tgz: Cannot open: No such file or directory\n",
            "tar: Error is not recoverable: exiting now\n"
          ],
          "name": "stdout"
        }
      ]
    },
    {
      "cell_type": "code",
      "metadata": {
        "id": "Nor9olN20p0M"
      },
      "source": [
        "import os\n",
        "os.environ[\"JAVA_HOME\"] = \"/usr/lib/jvm/java-8-openjdk-amd64\"\n",
        "os.environ[\"SPARK_HOME\"] = \"/content/spark-3.0.0-preview2-bin-hadoop2.7\"\n",
        "import findspark\n",
        "findspark.init(\"spark-3.0.0-bin-hadoop3.2\")# SPARK_HOME\n",
        "\n",
        "\n",
        "from pyspark.sql import SparkSession\n",
        "from pyspark import SparkContext\n",
        "\n",
        "spark = SparkSession.builder.master(\"local[*]\").getOrCreate()\n",
        "sc = SparkContext.getOrCreate()"
      ],
      "execution_count": null,
      "outputs": []
    },
    {
      "cell_type": "code",
      "metadata": {
        "id": "SY060QsjT8Wr",
        "colab": {
          "base_uri": "https://localhost:8080/",
          "height": 119
        },
        "outputId": "a85039e0-5341-4ff6-dddf-75a1953f063f"
      },
      "source": [
        "ls -lah"
      ],
      "execution_count": null,
      "outputs": [
        {
          "output_type": "stream",
          "text": [
            "total 20K\n",
            "drwxr-xr-x  1 root      root 4.0K Jul 15 22:11 \u001b[0m\u001b[01;34m.\u001b[0m/\n",
            "drwxr-xr-x  1 root      root 4.0K Jul 15 22:01 \u001b[01;34m..\u001b[0m/\n",
            "drwxr-xr-x  1 root      root 4.0K Jul 13 16:14 \u001b[01;34m.config\u001b[0m/\n",
            "drwxr-xr-x  1 root      root 4.0K Jul 10 16:29 \u001b[01;34msample_data\u001b[0m/\n",
            "drwxr-xr-x 13 110302528 1000 4.0K Dec 17  2019 \u001b[01;34mspark-3.0.0-preview2-bin-hadoop2.7\u001b[0m/\n"
          ],
          "name": "stdout"
        }
      ]
    },
    {
      "cell_type": "code",
      "metadata": {
        "id": "OYvYeA5RUImn",
        "colab": {
          "base_uri": "https://localhost:8080/",
          "height": 119
        },
        "outputId": "92c809b5-3a7c-4192-a346-f760c9b4cfd1"
      },
      "source": [
        "!ls -la"
      ],
      "execution_count": null,
      "outputs": [
        {
          "output_type": "stream",
          "text": [
            "total 20\n",
            "drwxr-xr-x  1 root      root 4096 Jul 15 22:11 .\n",
            "drwxr-xr-x  1 root      root 4096 Jul 15 22:01 ..\n",
            "drwxr-xr-x  1 root      root 4096 Jul 13 16:14 .config\n",
            "drwxr-xr-x  1 root      root 4096 Jul 10 16:29 sample_data\n",
            "drwxr-xr-x 13 110302528 1000 4096 Dec 17  2019 spark-3.0.0-preview2-bin-hadoop2.7\n"
          ],
          "name": "stdout"
        }
      ]
    },
    {
      "cell_type": "code",
      "metadata": {
        "id": "Ik5qs0pnKC60",
        "colab": {
          "base_uri": "https://localhost:8080/",
          "height": 204
        },
        "outputId": "fad6c105-49ed-4486-d2bc-eb67a185fc63"
      },
      "source": [
        "!wget https://s3.amazonaws.com/metcs777/taxi-data-sorted-small.csv.bz2"
      ],
      "execution_count": null,
      "outputs": [
        {
          "output_type": "stream",
          "text": [
            "--2020-07-15 22:12:56--  https://s3.amazonaws.com/metcs777/taxi-data-sorted-small.csv.bz2\n",
            "Resolving s3.amazonaws.com (s3.amazonaws.com)... 52.216.144.206\n",
            "Connecting to s3.amazonaws.com (s3.amazonaws.com)|52.216.144.206|:443... connected.\n",
            "HTTP request sent, awaiting response... 200 OK\n",
            "Length: 97938609 (93M) [application/x-bzip2]\n",
            "Saving to: ‘taxi-data-sorted-small.csv.bz2’\n",
            "\n",
            "taxi-data-sorted-sm 100%[===================>]  93.40M  39.2MB/s    in 2.4s    \n",
            "\n",
            "2020-07-15 22:12:59 (39.2 MB/s) - ‘taxi-data-sorted-small.csv.bz2’ saved [97938609/97938609]\n",
            "\n"
          ],
          "name": "stdout"
        }
      ]
    },
    {
      "cell_type": "code",
      "metadata": {
        "id": "acu6srVpfYfH",
        "colab": {
          "base_uri": "https://localhost:8080/",
          "height": 34
        },
        "outputId": "15a350d5-6950-4e52-9ade-c0c68c8b66b7"
      },
      "source": [
        "#check if spark are running\n",
        "\n",
        "print(sc.version)\n"
      ],
      "execution_count": null,
      "outputs": [
        {
          "output_type": "stream",
          "text": [
            "3.0.0-preview2\n"
          ],
          "name": "stdout"
        }
      ]
    },
    {
      "cell_type": "code",
      "metadata": {
        "id": "gT2D6DuJfYfM"
      },
      "source": [
        "lines = sc.textFile(\"./taxi-data-sorted-small.csv.bz2\")\n",
        "\n",
        "taxilines = lines.map(lambda line: line.split(\",\"))"
      ],
      "execution_count": null,
      "outputs": []
    },
    {
      "cell_type": "code",
      "metadata": {
        "id": "w56VdzMEfYfQ",
        "colab": {
          "base_uri": "https://localhost:8080/",
          "height": 54
        },
        "outputId": "11d48f0c-977a-44db-8acd-e72e2fe3bde3"
      },
      "source": [
        "#print first row of the data to make sure it is read in correctly\n",
        "print(taxilines.take(2))"
      ],
      "execution_count": null,
      "outputs": [
        {
          "output_type": "stream",
          "text": [
            "[['07290D3599E7A0D62097A346EFCC1FB5', 'E7750A37CAB07D0DFF0AF7E3573AC141', '2013-01-01 00:00:00', '2013-01-01 00:02:00', '120', '0.44', '-73.956528', '40.716976', '-73.962440', '40.715008', 'CSH', '3.50', '0.50', '0.50', '0.00', '0.00', '4.50'], ['22D70BF00EEB0ADC83BA8177BB861991', '3FF2709163DE7036FCAA4E5A3324E4BF', '2013-01-01 00:02:00', '2013-01-01 00:02:00', '0', '0.00', '0.000000', '0.000000', '0.000000', '0.000000', 'CSH', '27.00', '0.00', '0.50', '0.00', '0.00', '27.50']]\n"
          ],
          "name": "stdout"
        }
      ]
    },
    {
      "cell_type": "markdown",
      "metadata": {
        "id": "oWUNSZLQfYfW"
      },
      "source": [
        "Use pycode from assignment 1 document to clean up the data loaded"
      ]
    },
    {
      "cell_type": "code",
      "metadata": {
        "id": "56bFmBB0fYfX"
      },
      "source": [
        "#clean up \n",
        "#handling wrong data lines\n",
        "def isfloat(val):\n",
        "    try: \n",
        "        float(val)\n",
        "        return True\n",
        "    except:\n",
        "        return False\n",
        "    \n",
        "#use isFloat to remove lines if they dont have 16 values and a float value !=0 for col 6 and col 12\n",
        "def correctRows(p):\n",
        "    if(len(p)==17):\n",
        "        if(isfloat(p[5]) and isfloat(p[11])):\n",
        "            if(float(p[5])!=0 and float(p[11])!=0):\n",
        "                return p\n",
        "            \n",
        "#go thru each element per row and keep only the correctRows\n",
        "cleanTaxiDT = taxilines.filter(correctRows)"
      ],
      "execution_count": null,
      "outputs": []
    },
    {
      "cell_type": "markdown",
      "metadata": {
        "id": "ao7ZkqSTfYfi"
      },
      "source": [
        "### Part1: Top-10 Active Taxis\n",
        "Many different taxis have had multiple drivers. Write and execute a Spark Python program that computes\n",
        "the top ten taxis that have had the largest number of drivers. Your output should be a set of (medallion,\n",
        "number of drivers) pairs\n"
      ]
    },
    {
      "cell_type": "code",
      "metadata": {
        "id": "AvBUCe_ufYfj"
      },
      "source": [
        "#set up each row with an 1 index\n",
        "rdd_1 = cleanTaxiDT.map(lambda x: ((x[0], x[1]), 1))"
      ],
      "execution_count": null,
      "outputs": []
    },
    {
      "cell_type": "code",
      "metadata": {
        "id": "wDyrz-5ffYfm",
        "colab": {
          "base_uri": "https://localhost:8080/",
          "height": 34
        },
        "outputId": "bcc63e08-380b-4c29-ff71-ee8e7edcbcb6"
      },
      "source": [
        "rdd_1.first()"
      ],
      "execution_count": null,
      "outputs": [
        {
          "output_type": "execute_result",
          "data": {
            "text/plain": [
              "(('07290D3599E7A0D62097A346EFCC1FB5', 'E7750A37CAB07D0DFF0AF7E3573AC141'), 1)"
            ]
          },
          "metadata": {
            "tags": []
          },
          "execution_count": 12
        }
      ]
    },
    {
      "cell_type": "code",
      "metadata": {
        "id": "EVq_pvVlfYfp"
      },
      "source": [
        "#reduce, aggrgate by the combination of taxi and taxi drivers into a list\n",
        "rdd_1_reduce = rdd_1.reduceByKey(lambda x, y: x+y)\n"
      ],
      "execution_count": null,
      "outputs": []
    },
    {
      "cell_type": "code",
      "metadata": {
        "id": "vYRaU5MrfYft"
      },
      "source": [
        "# reduce in RDD to count taxi and most frequently used taxi\n",
        "by_medalionRDD2 = rdd_1_reduce.map(lambda x: (x[0][0],1)).reduceByKey(lambda x, y: x+y)"
      ],
      "execution_count": null,
      "outputs": []
    },
    {
      "cell_type": "code",
      "metadata": {
        "id": "RZjVMIVTfYfv"
      },
      "source": [
        "#return the top 10 most used taxi by the count\n",
        "by_medalionRDD2.top(10, lambda x: x[1])"
      ],
      "execution_count": null,
      "outputs": []
    },
    {
      "cell_type": "markdown",
      "metadata": {
        "id": "e5_i58u3fYf4"
      },
      "source": [
        "### Part2: Top-10 Best Drivers\n",
        "We would like to figure out who the top 10 best drivers are in terms of their average earned money per minute spent carrying a customer. The total amount field is the total money earned on a trip. In the end, we\n",
        "are interested in computing a set of (driver, money per minute) pairs"
      ]
    },
    {
      "cell_type": "markdown",
      "metadata": {
        "id": "F8eA3mOHCF0O"
      },
      "source": [
        "Create a second clean RDD to remove any rows that contain no value for the minute column and save to cleanTaxiDT2"
      ]
    },
    {
      "cell_type": "code",
      "metadata": {
        "id": "-_ZHanAFojAq"
      },
      "source": [
        "def correctRows2(p):\n",
        "  if(float(p[4]) !=0):\n",
        "    return p\n",
        "cleanTaxiDT2 = cleanTaxiDT.filter(correctRows2)"
      ],
      "execution_count": null,
      "outputs": []
    },
    {
      "cell_type": "code",
      "metadata": {
        "id": "pcDeqY6zfYf5"
      },
      "source": [
        "#get a driver rdd and map a function to get the money per minute value\n",
        "by_drvr = cleanTaxiDT2.map(lambda x: (x[1], (float(x[11])/(float(x[4])/60), 1.0)))\n",
        "#aggregate by key=driverID and tke an average using the aggregate byByKey\n",
        "aggfun = lambda x, y: (x[0]+y[0], x[1]+y[1])\n",
        "rateRDD = by_drvr.aggregateByKey((0.0,0.0), aggfun, aggfun)\n",
        "\n",
        "avg_rateRDD = rateRDD.map(lambda x: (x[0], x[1][0]/x[1][1]))\n"
      ],
      "execution_count": null,
      "outputs": []
    },
    {
      "cell_type": "code",
      "metadata": {
        "id": "QRNuqmzwfYgD",
        "colab": {
          "base_uri": "https://localhost:8080/",
          "height": 185
        },
        "outputId": "a44dfd49-598b-4d83-d600-eb748f45d843"
      },
      "source": [
        "# Get top 10 drivers\n",
        "avg_rateRDD.top(10, lambda x: x[1])\n"
      ],
      "execution_count": null,
      "outputs": [
        {
          "output_type": "execute_result",
          "data": {
            "text/plain": [
              "[('30B2ACBAF002305533FF0D31D34A7C06', 624.0),\n",
              " ('4C3B2A31227663A59E1AA7B45157160D', 520.0),\n",
              " ('08026D69508127F4DE855678ABCE7E0A', 300.0),\n",
              " ('6E1D7195E38AA7A36B375C1C60AD8632', 240.0),\n",
              " ('975D5E840C0F5D9611A71E9A811D11F7', 171.81818181818184),\n",
              " ('E8E22AC46DF6AC99C28C6860779A648C', 150.0),\n",
              " ('F981706EDD5F7B2BC29A5C9F2D2017C0', 120.4015616285555),\n",
              " ('17F72121B9F612D81AC4556CC18D5514', 107.14285714285714),\n",
              " ('619BF4020E6542AA0E28FBC7081271F1', 105.88235294117648),\n",
              " ('CD9D0B4429613F1B62D1D4FBB72ACF2B', 82.75862068965517)]"
            ]
          },
          "metadata": {
            "tags": []
          },
          "execution_count": 41
        }
      ]
    },
    {
      "cell_type": "markdown",
      "metadata": {
        "id": "tZ6isU0PJN6L"
      },
      "source": [
        "### Part3: Best Day to Work\n",
        "We would like to know which hour of the day is the best time for drivers that has the highest profit per miles. Consider the surcharge amount in dollar for each taxi ride (without tip amount) and the distance in miles, and sum up the rides for each hour of the day (24 hours) – consider the pickup time for your calculation. The profit ratio is the ration surcharge in dollar divided by the travel distance in miles for each specific time\n",
        "of the day. \n",
        "\n",
        "Profit Ratio = (Surcharge Amount in US Dollar) / (Travel Distance in miles)\n",
        "We are interested to know the time of the day that has the highest profit ratio."
      ]
    },
    {
      "cell_type": "code",
      "metadata": {
        "id": "yW0RJ81ZfYgV"
      },
      "source": [
        "#col index: surcharge=12, Distance=5, pickup datetime=2\n",
        "\n",
        "# get the day out of the datetime column\n",
        "from datetime import datetime"
      ],
      "execution_count": null,
      "outputs": []
    },
    {
      "cell_type": "code",
      "metadata": {
        "id": "S_8J-7X5N_DB"
      },
      "source": [
        "\n",
        "# create a method to extract hour\n",
        "def getHour(x):\n",
        "  dtObj = datetime.strptime(x, '%Y-%m-%d %H:%M:%S')\n",
        "  return dtObj.strftime('%H')\n",
        "\n",
        "#create aRDD with the relevant columns: pick up date, surcharge, distance\n",
        "pt3RDD = cleanTaxiDT.map(lambda x: (getHour(x[2]), (float(x[12]), float(x[5]))))\n",
        "#RDD to contain sum of all surcharge, all distance for each date as key\n",
        "byHourRDD = pt3RDD.reduceByKey(lambda x, y: (x[0]+y[0], x[1]+y[1]))\n",
        "#RDD to produce date and profit ratio by day\n",
        "bestDayRDD = byHourRDD.map(lambda x: (x[0], x[1][0]/x[1][1]))\n",
        "\n"
      ],
      "execution_count": null,
      "outputs": []
    },
    {
      "cell_type": "code",
      "metadata": {
        "id": "rdadRG-KORSd",
        "colab": {
          "base_uri": "https://localhost:8080/",
          "height": 187
        },
        "outputId": "fac61e66-b459-4b34-858a-56fc296b6269"
      },
      "source": [
        "bestDayRDD.top(10, lambda x: x[1])"
      ],
      "execution_count": null,
      "outputs": [
        {
          "output_type": "execute_result",
          "data": {
            "text/plain": [
              "[('19', 0.2797969863679002),\n",
              " ('18', 0.27278898753108016),\n",
              " ('17', 0.24141913629068573),\n",
              " ('16', 0.21625007358740558),\n",
              " ('20', 0.17366763839394975),\n",
              " ('21', 0.16619487745174588),\n",
              " ('22', 0.16286985932866763),\n",
              " ('23', 0.1540784450680554),\n",
              " ('02', 0.15239306867513575),\n",
              " ('00', 0.14987512831474073)]"
            ]
          },
          "metadata": {
            "tags": []
          },
          "execution_count": 42
        }
      ]
    },
    {
      "cell_type": "code",
      "metadata": {
        "id": "vv5Xbq6hOpdd"
      },
      "source": [
        "del byDateRDD\n"
      ],
      "execution_count": null,
      "outputs": []
    },
    {
      "cell_type": "code",
      "metadata": {
        "id": "Bof33klTPfoT"
      },
      "source": [
        ""
      ],
      "execution_count": null,
      "outputs": []
    },
    {
      "cell_type": "code",
      "metadata": {
        "id": "P7TkQQ1qUuxO"
      },
      "source": [
        ""
      ],
      "execution_count": null,
      "outputs": []
    },
    {
      "cell_type": "markdown",
      "metadata": {
        "id": "trlcSiumWOVT"
      },
      "source": [
        "### Part4: Bonus \n",
        "How many percent of taxi customers pay with cash and how many percent using electronic cards?\n",
        "Analyze these payment methods for different time of the day and provide a list of percents for each\n",
        "day time? \n",
        "\n",
        "As a result provide two numbers for total percentages and a list like (hour of day, percent paid card) We would like to measure the efficiency of taxis drivers by finding out their average earned money per mile. (Consider the total amount which includes tips, as their earned money) Implement a Spark job\n",
        "that can find out the top-10 efficient taxi divers.\n",
        "\n",
        "\u000fWhat are mean, median, first and third quantiles of tip amount? How do find the median?\n",
        "\u000fUsing the IQR outlier detection method find out the top-10 outliers."
      ]
    },
    {
      "cell_type": "code",
      "metadata": {
        "id": "r-FV5H0TWpLj"
      },
      "source": [
        "# cash versus credit\n",
        "# columns: pickup date = 2, payment type = 10\n",
        "\n"
      ],
      "execution_count": null,
      "outputs": []
    }
  ]
}